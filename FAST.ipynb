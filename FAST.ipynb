{
 "cells": [
  {
   "cell_type": "code",
   "execution_count": 1,
   "metadata": {},
   "outputs": [],
   "source": [
    "from SALib.sample import fast_sampler\n",
    "from SALib.analyze import fast\n",
    "from SALib.test_functions import Ishigami\n",
    "import numpy as np"
   ]
  },
  {
   "cell_type": "code",
   "execution_count": 2,
   "metadata": {},
   "outputs": [],
   "source": [
    "problem = {\n",
    "    'num_vars': 3,\n",
    "    'names': ['x1', 'x2', 'x3'],\n",
    "    'bounds': [[-3.14159265359, 3.14159265359],\n",
    "               [-3.14159265359, 3.14159265359],\n",
    "               [-3.14159265359, 3.14159265359]]\n",
    "}"
   ]
  },
  {
   "cell_type": "code",
   "execution_count": 3,
   "metadata": {},
   "outputs": [
    {
     "name": "stdout",
     "output_type": "stream",
     "text": [
      "Parameter First Total\n",
      "x1 0.292815 0.524586\n",
      "x2 0.442606 0.469483\n",
      "x3 0.000000 0.239129\n"
     ]
    }
   ],
   "source": [
    "#generate samples\n",
    "param_values = fast_sampler.sample(problem,1000,M=4)\n",
    "#run model\n",
    "Y = Ishigami.evaluate(param_values)\n",
    "#perform analysis\n",
    "Si = fast.analyze(problem, Y, M=4,print_to_console=True)\n",
    "\n"
   ]
  },
  {
   "cell_type": "code",
   "execution_count": 5,
   "metadata": {},
   "outputs": [
    {
     "name": "stdout",
     "output_type": "stream",
     "text": [
      "S1: [0.29281524601374637, 0.442606489255674, 8.073006646833732e-28]\n",
      "{'S1': [0.29281524601374637, 0.442606489255674, 8.073006646833732e-28], 'ST': [0.5245864978116421, 0.4694831437618021, 0.23912901229538253]}\n",
      "ST: [0.5245864978116421, 0.4694831437618021, 0.23912901229538253]\n"
     ]
    }
   ],
   "source": [
    "# Get results\n",
    "print(\"S1:\", Si['S1'])\n",
    "print(\"ST:\", Si['ST'])"
   ]
  },
  {
   "cell_type": "code",
   "execution_count": null,
   "metadata": {},
   "outputs": [],
   "source": []
  }
 ],
 "metadata": {
  "kernelspec": {
   "display_name": "Python 3",
   "language": "python",
   "name": "python3"
  },
  "language_info": {
   "codemirror_mode": {
    "name": "ipython",
    "version": 3
   },
   "file_extension": ".py",
   "mimetype": "text/x-python",
   "name": "python",
   "nbconvert_exporter": "python",
   "pygments_lexer": "ipython3",
   "version": "3.6.7"
  }
 },
 "nbformat": 4,
 "nbformat_minor": 2
}
