{
 "cells": [
  {
   "cell_type": "code",
   "execution_count": 9,
   "metadata": {},
   "outputs": [],
   "source": [
    "import math\n",
    "\n",
    "import numpy as np\n",
    "\n",
    "\n",
    "# Non-monotonic Ishigami Function (3 parameters)\n",
    "# First-order indices:\n",
    "# x1: 0.3139\n",
    "# x2: 0.4424\n",
    "# x3: 0.0\n",
    "def ishigami(values, A, B):\n",
    "    Y = np.zeros([values.shape[0]])\n",
    "\n",
    "    for i, X in enumerate(values):\n",
    "        Y[i] = math.sin(X[0]) + A * math.pow(math.sin(X[1]), 2) + \\\n",
    "            B * math.pow(X[2], 4) * math.sin(X[0])\n",
    "\n",
    "    return Y\n"
   ]
  },
  {
   "cell_type": "code",
   "execution_count": 11,
   "metadata": {},
   "outputs": [
    {
     "name": "stdout",
     "output_type": "stream",
     "text": [
      "Parameter                         Mu_Star         Mu    Mu_Star_Conf      Sigma\n",
      "x1                                 54.239     54.239           3.189     49.986\n",
      "x2                                  2.250      0.009           0.000      2.251\n",
      "x3                                 46.391      0.400           3.140     68.137\n"
     ]
    },
    {
     "data": {
      "text/plain": [
       "{'names': ['x1', 'x2', 'x3'],\n",
       " 'mu': array([5.42388387e+01, 9.00000000e-03, 3.99922951e-01]),\n",
       " 'mu_star': array([54.23883869,  2.25      , 46.39106227]),\n",
       " 'sigma': array([49.98646552,  2.25110784, 68.13732739]),\n",
       " 'mu_star_conf': [3.1891836151616375,\n",
       "  1.4631572618695757e-15,\n",
       "  3.1404279298870703]}"
      ]
     },
     "execution_count": 11,
     "metadata": {},
     "output_type": "execute_result"
    }
   ],
   "source": [
    "from SALib.sample import morris as morris_sampler\n",
    "from SALib.analyze import morris\n",
    "from pprint import pprint\n",
    "import numpy as np\n",
    "\n",
    "problem = {\n",
    "    'num_vars': 3,\n",
    "    'names': ['x1', 'x2', 'x3'],\n",
    "    'bounds': [[-3.14159265359, 3.14159265359],\n",
    "               [-3.14159265359, 3.14159265359],\n",
    "               [-3.14159265359, 3.14159265359]]\n",
    "}\n",
    "\n",
    "X = morris_sampler.sample(problem, N=1000, grid_jump=2, num_levels=4)\n",
    "Y = ishigami(X, A=7, B=0.1)\n",
    "morris.analyze(problem, X, Y, print_to_console=True)"
   ]
  },
  {
   "cell_type": "code",
   "execution_count": null,
   "metadata": {},
   "outputs": [],
   "source": []
  }
 ],
 "metadata": {
  "kernelspec": {
   "display_name": "Python 3",
   "language": "python",
   "name": "python3"
  },
  "language_info": {
   "codemirror_mode": {
    "name": "ipython",
    "version": 3
   },
   "file_extension": ".py",
   "mimetype": "text/x-python",
   "name": "python",
   "nbconvert_exporter": "python",
   "pygments_lexer": "ipython3",
   "version": "3.7.0"
  }
 },
 "nbformat": 4,
 "nbformat_minor": 2
}
