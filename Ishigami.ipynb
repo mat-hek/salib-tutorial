{
 "cells": [
  {
   "cell_type": "code",
   "execution_count": 1,
   "metadata": {},
   "outputs": [],
   "source": [
    "import math\n",
    "import numpy as np\n",
    "\n",
    "def ishigami(values, A, B):\n",
    "    Y = np.zeros([values.shape[0]])\n",
    "\n",
    "    for i, X in enumerate(values):\n",
    "        Y[i] = math.sin(X[0]) + A * math.pow(math.sin(X[1]), 2) + \\\n",
    "            B * math.pow(X[2], 4) * math.sin(X[0])\n",
    "\n",
    "    return Y\n"
   ]
  },
  {
   "cell_type": "code",
   "execution_count": 4,
   "metadata": {},
   "outputs": [],
   "source": [
    "problem = {\n",
    "    'num_vars': 3,\n",
    "    'names': ['x1', 'x2', 'x3'],\n",
    "    'bounds': [[-np.pi, np.pi]]*3\n",
    "}"
   ]
  },
  {
   "cell_type": "code",
   "execution_count": 5,
   "metadata": {},
   "outputs": [
    {
     "name": "stdout",
     "output_type": "stream",
     "text": [
      "Parameter                         Mu_Star         Mu    Mu_Star_Conf      Sigma\nx1                                  7.317      7.317           0.381      6.240\nx2                                  7.875      0.299           0.000      7.873\nx3                                  6.349      0.450           0.386      8.901\n"
     ]
    },
    {
     "data": {
      "text/plain": [
       "{'mu': array([ 7.31662875,  0.29925   ,  0.44991332]),\n 'mu_star': array([ 7.31662875,  7.875     ,  6.34877684]),\n 'mu_star_conf': [0.3805190771900856,\n  5.5076402322181163e-17,\n  0.3864239707151737],\n 'names': ['x1', 'x2', 'x3'],\n 'sigma': array([ 6.23989508,  7.87324981,  8.90063049])}"
      ]
     },
     "execution_count": 5,
     "metadata": {},
     "output_type": "execute_result"
    }
   ],
   "source": [
    "from SALib.sample import morris as morris_sampler\n",
    "from SALib.analyze import morris\n",
    "\n",
    "X = morris_sampler.sample(problem, N=1000, grid_jump=2, num_levels=4)\n",
    "Y = ishigami(X, A=7, B=0.1)\n",
    "morris.analyze(problem, X, Y, print_to_console=True)"
   ]
  },
  {
   "cell_type": "code",
   "execution_count": 6,
   "metadata": {},
   "outputs": [
    {
     "name": "stdout",
     "output_type": "stream",
     "text": [
      "Parameter S1 S1_conf ST ST_conf\nx1 0.307975 0.061194 0.560137 0.084977\nx2 0.447767 0.048945 0.438722 0.035249\nx3 -0.004255 0.054188 0.242845 0.027347\n\nParameter_1 Parameter_2 S2 S2_conf\nx1 x2 0.012205 0.072336\nx1 x3 0.251526 0.112354\nx2 x3 -0.009954 0.057707\n"
     ]
    }
   ],
   "source": [
    "from SALib.sample import saltelli\n",
    "from SALib.analyze import sobol\n",
    "\n",
    "X = saltelli.sample(problem, 1000)\n",
    "Y = ishigami(X, A=7, B=0.1)\n",
    "\n",
    "Si = sobol.analyze(problem, Y, print_to_console=True)\n"
   ]
  },
  {
   "cell_type": "code",
   "execution_count": null,
   "metadata": {},
   "outputs": [],
   "source": []
  }
 ],
 "metadata": {
  "kernelspec": {
   "display_name": "Python 3",
   "language": "python",
   "name": "python3"
  },
  "language_info": {
   "codemirror_mode": {
    "name": "ipython",
    "version": 3
   },
   "file_extension": ".py",
   "mimetype": "text/x-python",
   "name": "python",
   "nbconvert_exporter": "python",
   "pygments_lexer": "ipython3",
   "version": "3.7.0"
  }
 },
 "nbformat": 4,
 "nbformat_minor": 2
}
