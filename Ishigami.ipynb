{
 "cells": [
  {
   "cell_type": "code",
   "execution_count": 14,
   "metadata": {},
   "outputs": [],
   "source": [
    "import math\n",
    "import numpy as np\n",
    "\n",
    "def ishigami(values, A, B):\n",
    "    Y = np.zeros([values.shape[0]])\n",
    "\n",
    "    for i, X in enumerate(values):\n",
    "        Y[i] = math.sin(X[0]) + A * math.pow(math.sin(X[1]), 2) + \\\n",
    "            B * math.pow(X[2], 4) * math.sin(X[0])\n",
    "\n",
    "    return Y\n"
   ]
  },
  {
   "cell_type": "code",
   "execution_count": 15,
   "metadata": {},
   "outputs": [
    {
     "name": "stdout",
     "output_type": "stream",
     "text": [
      "Parameter                         Mu_Star         Mu    Mu_Star_Conf      Sigma\n",
      "x1                                  8.191      8.191           0.392      6.233\n",
      "x2                                  7.875     -0.110           0.000      7.878\n",
      "x3                                  6.386     -0.337           0.393      8.932\n"
     ]
    },
    {
     "data": {
      "text/plain": [
       "{'names': ['x1', 'x2', 'x3'],\n",
       " 'mu': array([ 8.19146021, -0.11025   , -0.33743499]),\n",
       " 'mu_star': array([8.19146021, 7.875     , 6.38626962]),\n",
       " 'sigma': array([6.23287548, 7.87816828, 8.93190405]),\n",
       " 'mu_star_conf': [0.3921432433634512,\n",
       "  5.507640232218116e-17,\n",
       "  0.39321780763027736]}"
      ]
     },
     "execution_count": 15,
     "metadata": {},
     "output_type": "execute_result"
    }
   ],
   "source": [
    "from SALib.sample import morris as morris_sampler\n",
    "from SALib.analyze import morris\n",
    "\n",
    "problem = {\n",
    "    'num_vars': 3,\n",
    "    'names': ['x1', 'x2', 'x3'],\n",
    "    'bounds': [[-np.pi, np.pi]]*3\n",
    "}\n",
    "\n",
    "X = morris_sampler.sample(problem, N=1000, grid_jump=2, num_levels=4)\n",
    "Y = ishigami(X, A=7, B=0.1)\n",
    "morris.analyze(problem, X, Y, print_to_console=True)"
   ]
  },
  {
   "cell_type": "code",
   "execution_count": null,
   "metadata": {},
   "outputs": [],
   "source": []
  }
 ],
 "metadata": {
  "kernelspec": {
   "display_name": "Python 3",
   "language": "python",
   "name": "python3"
  },
  "language_info": {
   "codemirror_mode": {
    "name": "ipython",
    "version": 3
   },
   "file_extension": ".py",
   "mimetype": "text/x-python",
   "name": "python",
   "nbconvert_exporter": "python",
   "pygments_lexer": "ipython3",
   "version": "3.7.0"
  }
 },
 "nbformat": 4,
 "nbformat_minor": 2
}
