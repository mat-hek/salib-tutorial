{
 "cells": [
  {
   "cell_type": "markdown",
   "metadata": {},
   "source": [
    "## Zadanie 1\n",
    "Celem zadania jest analiza wrażliwości funkcji ze względu na zmienne dynamiczne lub parametry. Przeprowadź analizę jednej z poniższych funkcji (zostanie przydzielona przez prowadzących)."
   ]
  },
  {
   "cell_type": "markdown",
   "metadata": {},
   "source": [
    "### Funkcja 1: OAKLEY & O'HAGAN (2002) 2-DIMENSIONAL FUNCTION\n",
    "- Zapoznaj się z https://www.sfu.ca/~ssurjano/oakoh022d.html\n",
    "- Bazując na powyższym, zdefiniuj problem i zaimplementuj funkcję\n",
    "- Przeprowadź analizę przy użyciu przynajmniej jednej metody (FAST/Morris/Sobol)"
   ]
  },
  {
   "cell_type": "code",
   "execution_count": 1,
   "metadata": {},
   "outputs": [
    {
     "name": "stdout",
     "output_type": "stream",
     "text": [
      "Parameter                         Mu_Star         Mu    Mu_Star_Conf      Sigma\n",
      "x1                                  0.020      0.020           0.000      0.000\n",
      "x2                                  0.060      0.060           0.000      0.000\n"
     ]
    },
    {
     "data": {
      "text/plain": [
       "{'names': ['x1', 'x2'],\n",
       " 'mu': array([0.02000267, 0.05999948]),\n",
       " 'mu_star': array([0.02000267, 0.05999948]),\n",
       " 'sigma': array([1.33372132e-04, 1.35828734e-15]),\n",
       " 'mu_star_conf': [8.092856382015896e-06, 8.845667627647428e-17]}"
      ]
     },
     "execution_count": 1,
     "metadata": {},
     "output_type": "execute_result"
    }
   ],
   "source": [
    "from SALib.sample import morris as morris_sampler\n",
    "from SALib.analyze import morris\n",
    "from math import *\n",
    "import numpy as np\n",
    "\n",
    "problem = {\n",
    "    'num_vars': 2,\n",
    "    'names': ['x1', 'x2'],\n",
    "    'bounds': [[-0.01, 0.01]] * 2\n",
    "}\n",
    "\n",
    "\n",
    "# Note that `x` is a list containing values of all parameters x0...xn\n",
    "def oakley_ohagan(x):\n",
    "    [x1, x2] = x\n",
    "    return 5 + x1 + x2 + 2*cos(x1) + 2*sin(x2)\n",
    "\n",
    "\n",
    "X = morris_sampler.sample(problem, N=1000, grid_jump=2, num_levels=4)\n",
    "Y = np.array([oakley_ohagan(x) for x in X])\n",
    "morris.analyze(problem, X, Y, print_to_console=True)\n",
    "\n"
   ]
  },
  {
   "cell_type": "markdown",
   "metadata": {},
   "source": [
    "### Funkcja 2: G-FUNCTION\n",
    "- Zapoznaj się z https://www.sfu.ca/~ssurjano/gfunc.html\n",
    "- Bazując na powyższym, zdefiniuj problem i zaimplementuj funkcję\n",
    "- Przeprowadź analizę przy użyciu przynajmniej jednej metody (FAST/Morris/Sobol)"
   ]
  },
  {
   "cell_type": "code",
   "execution_count": 2,
   "metadata": {},
   "outputs": [
    {
     "name": "stdout",
     "output_type": "stream",
     "text": [
      "Parameter                         Mu_Star         Mu    Mu_Star_Conf      Sigma\n",
      "x1                                  6.447      0.363           0.255      7.672\n",
      "x2                                  4.167      0.263           0.234      5.592\n",
      "x3                                  2.886     -0.027           0.192      4.148\n"
     ]
    },
    {
     "data": {
      "text/plain": [
       "{'names': ['x1', 'x2', 'x3'],\n",
       " 'mu': array([ 0.36266667,  0.26340741, -0.02725926]),\n",
       " 'mu_star': array([6.44681481, 4.16711111, 2.88592593]),\n",
       " 'sigma': array([7.67221089, 5.59222975, 4.14801612]),\n",
       " 'mu_star_conf': [0.2548157813578702, 0.2337101672321021, 0.19190259569307713]}"
      ]
     },
     "execution_count": 2,
     "metadata": {},
     "output_type": "execute_result"
    }
   ],
   "source": [
    "from SALib.sample import morris as morris_sampler\n",
    "from SALib.analyze import morris\n",
    "from math import *\n",
    "import numpy as np\n",
    "\n",
    "problem = {\n",
    "    'num_vars': 3,\n",
    "    'names': ['x1', 'x2', 'x3'],\n",
    "    'bounds': [[0, 1]] * 3\n",
    "}\n",
    "\n",
    "\n",
    "# Note that `x` is a list containing values of all parameters x0...xn\n",
    "def g_function(x):\n",
    "    prod = 1\n",
    "    for i, xi in enumerate(x):\n",
    "        i = i+1\n",
    "        a = (i - 2) / 2\n",
    "        prod = prod * (abs(4 * xi - 2) + a) / (1 + a)\n",
    "    return prod\n",
    "\n",
    "\n",
    "X = morris_sampler.sample(problem, N=1000, grid_jump=2, num_levels=4)\n",
    "Y = np.array([g_function(x) for x in X])\n",
    "morris.analyze(problem, X, Y, print_to_console=True)\n"
   ]
  },
  {
   "cell_type": "markdown",
   "metadata": {},
   "source": [
    "### Funkcja 3: BOREHOLE FUNCTION\n",
    "- Zapoznaj się z https://www.sfu.ca/~ssurjano/borehole.html\n",
    "- Bazując na powyższym, zdefiniuj problem i zaimplementuj funkcję\n",
    "- Przeprowadź analizę przy użyciu metody Sobola"
   ]
  },
  {
   "cell_type": "code",
   "execution_count": 3,
   "metadata": {},
   "outputs": [
    {
     "name": "stdout",
     "output_type": "stream",
     "text": [
      "Parameter S1 S1_conf ST ST_conf\n",
      "rw 0.003426 0.005079 0.004612 0.000592\n",
      "r 0.152890 0.034862 0.162559 0.018652\n",
      "Tu -0.000004 0.000065 0.000001 0.000000\n",
      "Hu 0.200548 0.037944 0.214601 0.021044\n",
      "Tl 0.409349 0.055449 0.430727 0.037641\n",
      "Hl 0.204839 0.036635 0.211877 0.021364\n",
      "L -0.000000 0.000001 0.000000 0.000000\n",
      "Kw -0.000000 0.000000 0.000000 0.000000\n",
      "\n",
      "Parameter_1 Parameter_2 S2 S2_conf\n",
      "rw r 0.000556 0.009011\n",
      "rw Tu 0.000964 0.008143\n",
      "rw Hu 0.002361 0.009181\n",
      "rw Tl 0.001297 0.009066\n",
      "rw Hl 0.000912 0.008762\n",
      "rw L 0.000963 0.008142\n",
      "rw Kw 0.000963 0.008142\n",
      "r Tu 0.002765 0.051169\n",
      "r Hu 0.003888 0.057736\n",
      "r Tl 0.010767 0.058532\n",
      "r Hl 0.005309 0.062948\n",
      "r L 0.002761 0.051165\n",
      "r Kw 0.002761 0.051165\n",
      "Tu Hu 0.000010 0.000107\n",
      "Tu Tl 0.000010 0.000111\n",
      "Tu Hl 0.000008 0.000109\n",
      "Tu L 0.000010 0.000095\n",
      "Tu Kw 0.000010 0.000095\n",
      "Hu Tl 0.015057 0.066669\n",
      "Hu Hl 0.001702 0.057785\n",
      "Hu L 0.002546 0.050391\n",
      "Hu Kw 0.002546 0.050391\n",
      "Tl Hl 0.000925 0.085951\n",
      "Tl L 0.001485 0.085384\n",
      "Tl Kw 0.001485 0.085384\n",
      "Hl L 0.001235 0.054875\n",
      "Hl Kw 0.001236 0.054875\n",
      "L Kw -0.000000 0.000001\n"
     ]
    },
    {
     "data": {
      "text/plain": [
       "{'S1': array([ 3.42620953e-03,  1.52890119e-01, -4.35627237e-06,  2.00548035e-01,\n",
       "         4.09349271e-01,  2.04838814e-01, -1.28923683e-07, -2.73183647e-07]),\n",
       " 'S1_conf': array([5.07924183e-03, 3.48623753e-02, 6.45135454e-05, 3.79440917e-02,\n",
       "        5.54486391e-02, 3.66353040e-02, 6.33218648e-07, 3.32885221e-07]),\n",
       " 'ST': array([4.61179951e-03, 1.62558840e-01, 5.89109377e-07, 2.14601048e-01,\n",
       "        4.30726547e-01, 2.11876901e-01, 1.13257534e-10, 2.57053289e-11]),\n",
       " 'ST_conf': array([5.91647112e-04, 1.86522828e-02, 6.12970536e-08, 2.10440484e-02,\n",
       "        3.76410589e-02, 2.13637671e-02, 9.56042279e-11, 1.77706970e-11]),\n",
       " 'S2': array([[            nan,  5.55783948e-04,  9.64104514e-04,\n",
       "          2.36098615e-03,  1.29666992e-03,  9.11844569e-04,\n",
       "          9.63184864e-04,  9.63144113e-04],\n",
       "        [            nan,             nan,  2.76515030e-03,\n",
       "          3.88765249e-03,  1.07674716e-02,  5.30926961e-03,\n",
       "          2.76139904e-03,  2.76140325e-03],\n",
       "        [            nan,             nan,             nan,\n",
       "          9.83305992e-06,  9.73730418e-06,  8.07887310e-06,\n",
       "          9.96139642e-06,  9.96198838e-06],\n",
       "        [            nan,             nan,             nan,\n",
       "                     nan,  1.50571517e-02,  1.70183152e-03,\n",
       "          2.54648649e-03,  2.54563031e-03],\n",
       "        [            nan,             nan,             nan,\n",
       "                     nan,             nan,  9.24631949e-04,\n",
       "          1.48486414e-03,  1.48492673e-03],\n",
       "        [            nan,             nan,             nan,\n",
       "                     nan,             nan,             nan,\n",
       "          1.23546367e-03,  1.23550223e-03],\n",
       "        [            nan,             nan,             nan,\n",
       "                     nan,             nan,             nan,\n",
       "                     nan, -2.74936392e-07],\n",
       "        [            nan,             nan,             nan,\n",
       "                     nan,             nan,             nan,\n",
       "                     nan,             nan]]),\n",
       " 'S2_conf': array([[           nan, 9.01145694e-03, 8.14253020e-03, 9.18121254e-03,\n",
       "         9.06567930e-03, 8.76171181e-03, 8.14248611e-03, 8.14248956e-03],\n",
       "        [           nan,            nan, 5.11693274e-02, 5.77356766e-02,\n",
       "         5.85322693e-02, 6.29483846e-02, 5.11654618e-02, 5.11654687e-02],\n",
       "        [           nan,            nan,            nan, 1.06750547e-04,\n",
       "         1.10850438e-04, 1.08730550e-04, 9.49300885e-05, 9.49299095e-05],\n",
       "        [           nan,            nan,            nan,            nan,\n",
       "         6.66686059e-02, 5.77850992e-02, 5.03911754e-02, 5.03908776e-02],\n",
       "        [           nan,            nan,            nan,            nan,\n",
       "                    nan, 8.59510396e-02, 8.53842123e-02, 8.53841500e-02],\n",
       "        [           nan,            nan,            nan,            nan,\n",
       "                    nan,            nan, 5.48751511e-02, 5.48750727e-02],\n",
       "        [           nan,            nan,            nan,            nan,\n",
       "                    nan,            nan,            nan, 9.48128770e-07],\n",
       "        [           nan,            nan,            nan,            nan,\n",
       "                    nan,            nan,            nan,            nan]])}"
      ]
     },
     "execution_count": 3,
     "metadata": {},
     "output_type": "execute_result"
    }
   ],
   "source": [
    "from SALib.sample import saltelli\n",
    "from SALib.analyze import sobol\n",
    "from math import *\n",
    "import numpy as np\n",
    "\n",
    "problem = {\n",
    "    'num_vars': 8,\n",
    "    'names': ['rw', 'r', 'Tu', 'Hu', 'Tl', 'Hl', 'L', 'Kw'],\n",
    "    'bounds': [[0.1, 0.0161812], [7.71, 1.0056], [63070, 115600], [990, 1110], [63.1, 116], [700, 820], [1120, 1680],\n",
    "               [9855, 12045]],\n",
    "    'dists': ['norm', 'lognorm'] + ['unif']*6\n",
    "}\n",
    "\n",
    "\n",
    "# Note that `x` is a list containing values of all parameters x0...xn\n",
    "def borehole(x):\n",
    "    [rw, r, Tu, Hu, Tl, Hl, L, Kw] = x\n",
    "    return 2 * np.pi * Tu * (Hu - Hl) / (np.log(r / rw) * (1 + 2 * L * Tu / (np.log(r / rw) * r ** 2 * Kw) + Tu / Tl))\n",
    "\n",
    "\n",
    "X = saltelli.sample(problem, 1000)\n",
    "Y = np.array([borehole(x) for x in X])\n",
    "sobol.analyze(problem, Y, print_to_console=True)\n"
   ]
  },
  {
   "cell_type": "code",
   "execution_count": null,
   "metadata": {},
   "outputs": [],
   "source": []
  }
 ],
 "metadata": {
  "kernelspec": {
   "display_name": "Python 3",
   "language": "python",
   "name": "python3"
  },
  "language_info": {
   "codemirror_mode": {
    "name": "ipython",
    "version": 3
   },
   "file_extension": ".py",
   "mimetype": "text/x-python",
   "name": "python",
   "nbconvert_exporter": "python",
   "pygments_lexer": "ipython3",
   "version": "3.7.0"
  }
 },
 "nbformat": 4,
 "nbformat_minor": 2
}
