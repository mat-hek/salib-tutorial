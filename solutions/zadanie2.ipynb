{
 "cells": [
  {
   "cell_type": "markdown",
   "metadata": {},
   "source": []
  },
  {
   "cell_type": "code",
   "execution_count": 4,
   "metadata": {},
   "outputs": [],
   "source": [
    "import numpy as np\n",
    "from scipy import integrate\n",
    "\n",
    "def predator_pray(vect, t0, alpha, beta, gamma, delta):\n",
    "    x_n = alpha*vect[0] - beta*vect[0]*vect[1]\n",
    "    y_n = delta*vect[0]*vect[1] - gamma*vect[0]\n",
    "    return [x_n,y_n]\n",
    "\n",
    "def output(parm_values):\n",
    "    result = list()\n",
    "    for param in parm_values:\n",
    "        x0 = [1,1]\n",
    "        t = np.linspace(0, 100, 100)\n",
    "        x_t = integrate.odeint(predator_pray,x0,t,args=(param[0], param[1], param[2], param[3]))\n",
    "        result.append(x_t[-1][0]/x_t[-1][1])\n",
    "    return np.array(result)"
   ]
  },
  {
   "cell_type": "code",
   "execution_count": 5,
   "metadata": {},
   "outputs": [
    {
     "name": "stdout",
     "output_type": "stream",
     "text": [
      "Parameter First Total\n",
      "alpha 0.004381 0.854498\n",
      "beta 0.008016 0.875752\n",
      "gamma 0.007931 0.875778\n",
      "delta 0.007980 0.763514\n",
      "[0.004380510003299518, 0.00801597601080741, 0.007931338072322823, 0.0079797879331764]\n"
     ]
    }
   ],
   "source": [
    "from SALib.sample import fast_sampler\n",
    "from SALib.analyze import fast\n",
    "\n",
    "problem = {\n",
    "    'num_vars': 4,\n",
    "    'names': ['alpha','beta','gamma','delta'],\n",
    "    'bounds': [[0,1],[0,1],[0,1],[0,1]]\n",
    "}\n",
    "\n",
    "param_values = fast_sampler.sample(problem,1000)\n",
    "Y = output(param_values)\n",
    "Si = fast.analyze(problem, Y, print_to_console=True)"
   ]
  },
  {
   "cell_type": "code",
   "execution_count": null,
   "metadata": {},
   "outputs": [],
   "source": []
  }
 ],
 "metadata": {
  "kernelspec": {
   "display_name": "Python 3",
   "language": "python",
   "name": "python3"
  },
  "language_info": {
   "codemirror_mode": {
    "name": "ipython",
    "version": 3
   },
   "file_extension": ".py",
   "mimetype": "text/x-python",
   "name": "python",
   "nbconvert_exporter": "python",
   "pygments_lexer": "ipython3",
   "version": "3.6.7"
  }
 },
 "nbformat": 4,
 "nbformat_minor": 2
}
