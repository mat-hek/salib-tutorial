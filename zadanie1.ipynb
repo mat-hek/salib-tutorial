{
 "cells": [
  {
   "cell_type": "markdown",
   "metadata": {},
   "source": [
    "## Zadanie 1\n",
    "Celem zadania jest analiza wrażliwości funkcji ze względu na zmienne dynamiczne lub parametry. Przeprowadź analizę jednej z poniższych funkcji (zostanie przydzielona przez prowadzących)."
   ]
  },
  {
   "cell_type": "markdown",
   "metadata": {},
   "source": [
    "### Funkcja 1: OAKLEY & O'HAGAN (2002) 2-DIMENSIONAL FUNCTION\n",
    "- Zapoznaj się z https://www.sfu.ca/~ssurjano/oakoh022d.html\n",
    "- Bazując na powyższym, zdefiniuj problem i zaimplementuj funkcję\n",
    "- Przeprowadź analizę przy użyciu przynajmniej jednej metody (FAST/Morris/Sobol)"
   ]
  },
  {
   "cell_type": "code",
   "execution_count": 15,
   "metadata": {},
   "outputs": [],
   "source": [
    "# from SALib.sample import ...\n",
    "# from SALib.analyze import ...\n",
    "from math import *\n",
    "import numpy as np\n",
    "\n",
    "problem = {\n",
    "#     'num_vars': ...,\n",
    "#     'names': ...,\n",
    "#     'bounds': ...\n",
    "}\n",
    "\n",
    "\n",
    "# Note that `x` is a list containing values of all parameters x0...xn\n",
    "def oakley_ohagan(x):\n",
    "    # ...\n",
    "    raise Exception(\"not implemented\")\n",
    "\n",
    "\n",
    "# X = <...>.sample(...)\n",
    "# Y = np.array([oakley_ohagan(x) for x in X])\n",
    "# <...>.analyze(...)\n"
   ]
  },
  {
   "cell_type": "markdown",
   "metadata": {},
   "source": [
    "### Funkcja 2: G-FUNCTION\n",
    "- Zapoznaj się z https://www.sfu.ca/~ssurjano/gfunc.html\n",
    "- Bazując na powyższym, zdefiniuj problem i zaimplementuj funkcję\n",
    "- Przeprowadź analizę przy użyciu przynajmniej jednej metody (FAST/Morris/Sobol)"
   ]
  },
  {
   "cell_type": "code",
   "execution_count": 16,
   "metadata": {},
   "outputs": [],
   "source": [
    "# from SALib.sample import ...\n",
    "# from SALib.analyze import ...\n",
    "from math import *\n",
    "import numpy as np\n",
    "\n",
    "problem = {\n",
    "#     'num_vars': ...,\n",
    "#     'names': ...,\n",
    "#     'bounds': ...\n",
    "}\n",
    "\n",
    "\n",
    "# Note that `x` is a list containing values of all parameters x0...xn\n",
    "def g_function(x):\n",
    "    # ...\n",
    "    raise Exception(\"not implemented\")\n",
    "\n",
    "\n",
    "# X = <...>.sample(...)\n",
    "# Y = np.array([g_function(x) for x in X])\n",
    "# <...>.analyze(...)\n"
   ]
  },
  {
   "cell_type": "markdown",
   "metadata": {},
   "source": [
    "### Funkcja 3: BOREHOLE FUNCTION\n",
    "- Zapoznaj się z https://www.sfu.ca/~ssurjano/borehole.html\n",
    "- Bazując na powyższym, zdefiniuj problem i zaimplementuj funkcję\n",
    "- Przeprowadź analizę przy użyciu metody Sobola"
   ]
  },
  {
   "cell_type": "code",
   "execution_count": 17,
   "metadata": {},
   "outputs": [],
   "source": [
    "from SALib.sample import saltelli\n",
    "from SALib.analyze import sobol\n",
    "from math import *\n",
    "import numpy as np\n",
    "\n",
    "problem = {\n",
    "#     'num_vars': ...,\n",
    "#     'names': ...,\n",
    "#     'bounds': ..., (Note that `bounds` for norm and lognorm distributions are mean and standard deviation)\n",
    "    'dists': ['norm', 'lognorm'] + ['unif']*6\n",
    "}\n",
    "\n",
    "\n",
    "# Note that `x` is a list containing values of all parameters x0...xn\n",
    "def borehole(x):\n",
    "    # ...\n",
    "    raise Exception(\"not implemented\")\n",
    "\n",
    "# X = saltelli.sample(...)\n",
    "\n",
    "# Y = np.array([borehole(x) for x in X])\n",
    "\n",
    "# sobol.analyze(...)\n"
   ]
  },
  {
   "cell_type": "code",
   "execution_count": null,
   "metadata": {},
   "outputs": [],
   "source": []
  }
 ],
 "metadata": {
  "kernelspec": {
   "display_name": "Python 3",
   "language": "python",
   "name": "python3"
  },
  "language_info": {
   "codemirror_mode": {
    "name": "ipython",
    "version": 3
   },
   "file_extension": ".py",
   "mimetype": "text/x-python",
   "name": "python",
   "nbconvert_exporter": "python",
   "pygments_lexer": "ipython3",
   "version": "3.7.0"
  }
 },
 "nbformat": 4,
 "nbformat_minor": 2
}
