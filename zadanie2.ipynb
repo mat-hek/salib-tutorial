{
 "cells": [
  {
   "cell_type": "markdown",
   "metadata": {},
   "source": [
    "# Zadanie 2\n",
    "Celem zadania jest przeanalizowanie wrażliwości systemu rozwijającego się w czasie.\n",
    "## równania Lotka–Volterra\n",
    "- Zapoznaj się z https://en.wikipedia.org/wiki/Lotka%E2%80%93Volterra_equations\n",
    "- Zaimplementuj równania Lotka-Volterra \n",
    "- Przeprowadź analizę przy użyciu przynajmniej jednej metody (FAST/Morris/Sobol)"
   ]
  },
  {
   "cell_type": "code",
   "execution_count": 2,
   "metadata": {},
   "outputs": [],
   "source": [
    "import numpy as np\n",
    "from scipy import integrate\n",
    "\n",
    "def predator_pray(x, y, alpha, beta, gamma, delta):\n",
    "    #implement the equations\n",
    "    raise Exception(\"not implemented\")\n",
    "    \n",
    "def simulate(param_values):\n",
    "    result = list()\n",
    "    steps = 100\n",
    "    for param in parm_values:\n",
    "        x0 = [1,1]\n",
    "        t = np.linspace(0, steps, steps)\n",
    "        x_t = integrate.odeint(predator_pray,x0,t,args=(param[0], param[1], param[2], param[3]))\n",
    "        #result.append(<results to analyse>)\n",
    "    return np.array(result)"
   ]
  },
  {
   "cell_type": "code",
   "execution_count": 3,
   "metadata": {},
   "outputs": [],
   "source": [
    "\n",
    "# from SALib.sample import ...\n",
    "# from SALib.analyze import ...\n",
    "\n",
    "problem = {\n",
    "#     'num_vars': ...,\n",
    "#     'names': ...,\n",
    "#     'bounds': ...\n",
    "}\n",
    "\n",
    "# X = <...>.sample(...)\n",
    "# Y = simulate(X)\n",
    "# <...>.analyze(...)"
   ]
  }
 ],
 "metadata": {
  "kernelspec": {
   "display_name": "Python 3",
   "language": "python",
   "name": "python3"
  },
  "language_info": {
   "codemirror_mode": {
    "name": "ipython",
    "version": 3
   },
   "file_extension": ".py",
   "mimetype": "text/x-python",
   "name": "python",
   "nbconvert_exporter": "python",
   "pygments_lexer": "ipython3",
   "version": "3.6.7"
  }
 },
 "nbformat": 4,
 "nbformat_minor": 2
}
