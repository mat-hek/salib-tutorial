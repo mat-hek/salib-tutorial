{
 "cells": [
  {
   "cell_type": "markdown",
   "metadata": {},
   "source": [
    "# Zadanie 2\n",
    "Celem zadania jest przeanalizowanie wrażliwości systemu rozwijającego się w czasie.\n",
    "## równania Lotka–Volterra\n",
    "- Zapoznaj się z https://en.wikipedia.org/wiki/Lotka%E2%80%93Volterra_equations\n",
    "- Zaimplementuj równania Lotka-Volterra \n",
    "- Przeprowadź analizę przy użyciu przynajmniej jednej metody (FAST/Morris/Sobol)"
   ]
  },
  {
   "cell_type": "code",
   "execution_count": 4,
   "metadata": {},
   "outputs": [
    {
     "ename": "IndentationError",
     "evalue": "expected an indented block (<ipython-input-4-f91a0e8b0846>, line 15)",
     "output_type": "error",
     "traceback": [
      "\u001b[1;36m  File \u001b[1;32m\"<ipython-input-4-f91a0e8b0846>\"\u001b[1;36m, line \u001b[1;32m15\u001b[0m\n\u001b[1;33m    x_t = predator_pray(x_s[0],x_s[1],param[0],param[1],param[2],param[3])\u001b[0m\n\u001b[1;37m      ^\u001b[0m\n\u001b[1;31mIndentationError\u001b[0m\u001b[1;31m:\u001b[0m expected an indented block\n"
     ]
    }
   ],
   "source": [
    "import numpy as np\n",
    "from scipy import integrate\n",
    "\n",
    "def predator_pray(x, y, alpha, beta, gamma, delta):\n",
    "    #implement the equations\n",
    "    raise Exception(\"not implemented\")\n",
    "    \n",
    "def simulate(param_values):\n",
    "    result = list()\n",
    "    steps = 100\n",
    "    for param in parm_values:\n",
    "        x_s = [1,1]\n",
    "        t = np.linspace(0, steps, steps)\n",
    "        x_t = predator_pray(x_s[0],x_s[1],param[0],param[1],param[2],param[3]) \n",
    "        #result.append(<results to analyze>)\n",
    "    return np.array(result)"
   ]
  },
  {
   "cell_type": "code",
   "execution_count": 3,
   "metadata": {},
   "outputs": [],
   "source": [
    "\n",
    "# from SALib.sample import ...\n",
    "# from SALib.analyze import ...\n",
    "\n",
    "problem = {\n",
    "#     'num_vars': ...,\n",
    "#     'names': ...,\n",
    "#     'bounds': ...\n",
    "}\n",
    "\n",
    "# X = <...>.sample(...)\n",
    "# Y = simulate(X)\n",
    "# <...>.analyze(...)"
   ]
  }
 ],
 "metadata": {
  "kernelspec": {
   "display_name": "Python 3",
   "language": "python",
   "name": "python3"
  },
  "language_info": {
   "codemirror_mode": {
    "name": "ipython",
    "version": 3
   },
   "file_extension": ".py",
   "mimetype": "text/x-python",
   "name": "python",
   "nbconvert_exporter": "python",
   "pygments_lexer": "ipython3",
   "version": "3.6.7"
  }
 },
 "nbformat": 4,
 "nbformat_minor": 2
}
